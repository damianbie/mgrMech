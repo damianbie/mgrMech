{
 "cells": [
  {
   "attachments": {},
   "cell_type": "markdown",
   "metadata": {},
   "source": [
    "# Trenowanie modelu "
   ]
  },
  {
   "attachments": {},
   "cell_type": "markdown",
   "metadata": {},
   "source": [
    "#### Importy bibliotek i zmienne systemowe"
   ]
  },
  {
   "cell_type": "code",
   "execution_count": null,
   "metadata": {},
   "outputs": [],
   "source": [
    "from ultralytics import YOLO, settings\n",
    "import cv2, os\n",
    "\n",
    "DATASET         = \"daneZRobota\"             # folder in dataset \n",
    "MODEL_TO_LOAD   = \"\"          # model to load, if empty load pretrained on coco dataset\n",
    "\n",
    "\n",
    "IM_SIZE             = 640           # img size\n",
    "EPOCHS_TO_TRAIN     = 50            # \n",
    "\n",
    "\n",
    "# learning parameters \n",
    "# https://docs.ultralytics.com/modes/train/#arguments\n",
    "optimizer           = 'auto'    # choices=[SGD, Adam, Adamax, AdamW, NAdam, RAdam, RMSProp, auto]\n",
    "lr0                 = 0.01      # initial learning  def=0.01\n",
    "lrf                 = 0.01      # def=0.01\n",
    "momentum            = 0.937     # def=0.937\n",
    "\n",
    "\n",
    "settings.update({'datasets_dir': os.path.abspath(\"datasets\")})\n",
    "print(settings.get(\"datasets_dir\"))\n",
    "\n"
   ]
  },
  {
   "attachments": {},
   "cell_type": "markdown",
   "metadata": {},
   "source": [
    "#### Trenowanie modelu"
   ]
  },
  {
   "cell_type": "code",
   "execution_count": null,
   "metadata": {},
   "outputs": [],
   "source": [
    "results = model.train(data=DATASET+'.yaml', \n",
    "                      epochs=EPOCHS_TO_TRAIN, \n",
    "                      imgsz=IM_SIZE,\n",
    "                      val = False, \n",
    "                      optimizer=optimizer, \n",
    "                      lr0=lr0, \n",
    "                      lrf=lrf, \n",
    "                      momentum=momentum)"
   ]
  },
  {
   "attachments": {},
   "cell_type": "markdown",
   "metadata": {},
   "source": [
    "#### Walidacja danych"
   ]
  },
  {
   "cell_type": "code",
   "execution_count": null,
   "metadata": {},
   "outputs": [],
   "source": [
    "metrics = model.val()  # no arguments needed, dataset and settings remembered\n",
    "metrics.box.map    # map50-95\n",
    "metrics.box.map50  # map50\n",
    "metrics.box.map75  # map75\n",
    "metrics.box.maps   # a list contains map50-95 of each category\n"
   ]
  },
  {
   "cell_type": "markdown",
   "metadata": {},
   "source": [
    "### cały skrypt "
   ]
  },
  {
   "cell_type": "code",
   "execution_count": null,
   "metadata": {},
   "outputs": [],
   "source": [
    "from ultralytics import YOLO, settings\n",
    "import cv2, os\n",
    "\n",
    "DATASET         = \"daneZRobota\"             # folder in dataset \n",
    "MODEL_TO_LOAD   = \"\"          # model to load, if empty load pretrained on coco dataset\n",
    "\n",
    "\n",
    "IM_SIZE             = 640           # img size\n",
    "EPOCHS_TO_TRAIN     = 10            # \n",
    "\n",
    "\n",
    "# learning parameters \n",
    "# https://docs.ultralytics.com/modes/train/#arguments\n",
    "optimizer           = 'auto'    # choices=[SGD, Adam, Adamax, AdamW, NAdam, RAdam, RMSProp, auto]\n",
    "lr0                 = 0.01      # initial learning  def=0.01\n",
    "lrf                 = 0.01      # def=0.01\n",
    "momentum            = 0.937     # def=0.937\n",
    "\n",
    "\n",
    "settings.update({'datasets_dir': os.path.abspath(\"datasets\")})\n",
    "print(settings.get(\"datasets_dir\"))\n",
    "\n",
    "\n",
    "models = \"yolov8s\"\n",
    "\n",
    "print(\"Loading default model\")\n",
    "model = YOLO(models + '.yaml').load(models + '.pt')    \n",
    "\n",
    "results = model.train(\n",
    "    name = models+\"\",\n",
    "    data = DATASET+'.yaml', \n",
    "    epochs = 100, \n",
    "    imgsz = IM_SIZE,\n",
    "    val = False, \n",
    "    optimizer = optimizer, \n",
    "    lr0 = lr0, \n",
    "    lrf = lrf, \n",
    "    momentum = momentum,\n",
    "    plots = True\n",
    ")\n",
    "\n",
    "metrics = model.val()  # no arguments needed, dataset and settings remembered\n",
    "metrics.box.map    # map50-95\n",
    "metrics.box.map50  # map50\n",
    "metrics.box.map75  # map75\n",
    "metrics.box.maps   # a list contains map50-95 of each category\n"
   ]
  },
  {
   "cell_type": "markdown",
   "metadata": {},
   "source": [
    "## Testowanie modelu na podanych w tablicy frames zdjęciach"
   ]
  },
  {
   "cell_type": "code",
   "execution_count": null,
   "metadata": {},
   "outputs": [],
   "source": [
    "# testowanie \n",
    "\n",
    "import cv2\n",
    "from ultralytics import YOLO\n",
    "\n",
    "\n",
    "model = YOLO(\"best.pt\", verbose=True)\n",
    "\n",
    "# cv2.namedWindow(\"display\", cv2.WINDOW_AUTOSIZE)\n",
    "# frame = cv2.imread(\"datasets/dane1/images/trainImg/166efd7f-img_1604_2023_06_22_13_45_51_235736_235736.png\")\n",
    "frames = [\n",
    "    # \"datasets/dane1/images/trainImg/298c6d83-img_2138_2023_06_22_13_47_03_442838_442838.png\",\n",
    "    # \"datasets/dane1/images/trainImg/617d7cee-img_2772_2023_06_22_13_48_29_057303_057303.png\",\n",
    "    \"datasets/dane1/images/trainImg/2577cf8e-img_1757_2023_06_22_13_46_11_605296_605296.png\",\n",
    "    # \"datasets/dane1/images/trainImg/87c5f775-img_1266_2023_06_22_13_45_06_189374_189374.png\"\n",
    "    \n",
    "]\n",
    "# model = YOLO(\"runs/detect/train/weights/last.pt\")\n",
    "# model.load(\"runs/detect/train4/weights/last.pt\")\n",
    "\n",
    "# for frame in frames:\n",
    "#     frame = cv2.imread(frame)\n",
    "#     res = model.predict(frame)\n",
    "\n",
    "#     for r in res:\n",
    "#         r.show()\n",
    "#         cv2.waitKey(0)\n",
    "\n",
    "#     boxes = res[0].boxes.cpu().numpy()\n",
    "#     print(\"\")\n",
    "#     boxes = res[0].boxes.cpu()\n",
    "#     print(\"\")\n",
    "#     boxes = res[0].boxes\n",
    "\n",
    "#     print(\"\")\n",
    "#     for result in res:\n",
    "#         boxes = result.boxes.cpu().numpy() # get boxes on cpu in numpy\n",
    "#         for box in boxes: # iterate boxes\n",
    "#             r = box.xyxy[0].astype(int) # get corner points as int\n",
    "#             cv2.rectangle(frame, r[:2], r[2:], (0,255,0), 2) # draw boxes on img\n",
    "#             print(class_to_name(box.cls[0]))\n",
    "#         cv2.imshow(\"display\", res[0].orig_img)\n",
    "#         cv2.waitKey(0)\n",
    "\n",
    "# cv2.destroyAllWindows()"
   ]
  }
 ],
 "metadata": {
  "kernelspec": {
   "display_name": "Python 3",
   "language": "python",
   "name": "python3"
  },
  "language_info": {
   "codemirror_mode": {
    "name": "ipython",
    "version": 3
   },
   "file_extension": ".py",
   "mimetype": "text/x-python",
   "name": "python",
   "nbconvert_exporter": "python",
   "pygments_lexer": "ipython3",
   "version": "3.12.2"
  },
  "orig_nbformat": 4
 },
 "nbformat": 4,
 "nbformat_minor": 2
}
